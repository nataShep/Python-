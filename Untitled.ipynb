{
  "metadata": {
    "kernelspec": {
      "name": "python",
      "display_name": "Python (Pyodide)",
      "language": "python"
    },
    "language_info": {
      "codemirror_mode": {
        "name": "python",
        "version": 3
      },
      "file_extension": ".py",
      "mimetype": "text/x-python",
      "name": "python",
      "nbconvert_exporter": "python",
      "pygments_lexer": "ipython3",
      "version": "3.8"
    }
  },
  "nbformat_minor": 4,
  "nbformat": 4,
  "cells": [
    {
      "cell_type": "markdown",
      "source": "## Домашнее задание к уроку 3\n### Домашнее задание 1\n#### Изменение таблиц в Pandas\n###### * Скачать данные по ссылке https://www.kaggle.com/datasets/ionaskel/laptop-prices\n###### * Считать данные с помощью pandas\n###### * Вывести на экран первые 5 строк\n##### 1.1 Создать новый признак price_per_sq_lot, который будет содержать среднюю стоимость за один кв. метр общей площади\n##### 1.2 Создать новый признак delta_renovated, который будет содержать разницу в годах между годом реновацией дома и годом постройки дома\n###### * Если реновации дома не было, то в новом признаке поставьте 0\n##### 1.3 Создайте признаки года продажи, месяца продажи\n##### 1.4 Удалите признаки date, zipcode, lat, long",
      "metadata": {}
    },
    {
      "cell_type": "code",
      "source": "import pandas as pd\nimport numpy as np\nimport calendar",
      "metadata": {
        "trusted": true
      },
      "outputs": [],
      "execution_count": 9
    },
    {
      "cell_type": "code",
      "source": "df = pd.read_csv('kc_house_data.csv', encoding='latin-1', sep=',')",
      "metadata": {
        "trusted": true
      },
      "outputs": [],
      "execution_count": 12
    },
    {
      "cell_type": "code",
      "source": "df.head()",
      "metadata": {
        "trusted": true
      },
      "outputs": [
        {
          "execution_count": 14,
          "output_type": "execute_result",
          "data": {
            "text/plain": "           id             date     price  bedrooms  bathrooms  sqft_living  \\\n0  7129300520  20141013T000000  221900.0         3       1.00         1180   \n1  6414100192  20141209T000000  538000.0         3       2.25         2570   \n2  5631500400  20150225T000000  180000.0         2       1.00          770   \n3  2487200875  20141209T000000  604000.0         4       3.00         1960   \n4  1954400510  20150218T000000  510000.0         3       2.00         1680   \n\n   sqft_lot  floors  waterfront  view  ...  grade  sqft_above  sqft_basement  \\\n0      5650     1.0           0     0  ...      7        1180              0   \n1      7242     2.0           0     0  ...      7        2170            400   \n2     10000     1.0           0     0  ...      6         770              0   \n3      5000     1.0           0     0  ...      7        1050            910   \n4      8080     1.0           0     0  ...      8        1680              0   \n\n   yr_built  yr_renovated  zipcode      lat     long  sqft_living15  \\\n0      1955             0    98178  47.5112 -122.257           1340   \n1      1951          1991    98125  47.7210 -122.319           1690   \n2      1933             0    98028  47.7379 -122.233           2720   \n3      1965             0    98136  47.5208 -122.393           1360   \n4      1987             0    98074  47.6168 -122.045           1800   \n\n   sqft_lot15  \n0        5650  \n1        7639  \n2        8062  \n3        5000  \n4        7503  \n\n[5 rows x 21 columns]",
            "text/html": "<div>\n<style scoped>\n    .dataframe tbody tr th:only-of-type {\n        vertical-align: middle;\n    }\n\n    .dataframe tbody tr th {\n        vertical-align: top;\n    }\n\n    .dataframe thead th {\n        text-align: right;\n    }\n</style>\n<table border=\"1\" class=\"dataframe\">\n  <thead>\n    <tr style=\"text-align: right;\">\n      <th></th>\n      <th>id</th>\n      <th>date</th>\n      <th>price</th>\n      <th>bedrooms</th>\n      <th>bathrooms</th>\n      <th>sqft_living</th>\n      <th>sqft_lot</th>\n      <th>floors</th>\n      <th>waterfront</th>\n      <th>view</th>\n      <th>...</th>\n      <th>grade</th>\n      <th>sqft_above</th>\n      <th>sqft_basement</th>\n      <th>yr_built</th>\n      <th>yr_renovated</th>\n      <th>zipcode</th>\n      <th>lat</th>\n      <th>long</th>\n      <th>sqft_living15</th>\n      <th>sqft_lot15</th>\n    </tr>\n  </thead>\n  <tbody>\n    <tr>\n      <th>0</th>\n      <td>7129300520</td>\n      <td>20141013T000000</td>\n      <td>221900.0</td>\n      <td>3</td>\n      <td>1.00</td>\n      <td>1180</td>\n      <td>5650</td>\n      <td>1.0</td>\n      <td>0</td>\n      <td>0</td>\n      <td>...</td>\n      <td>7</td>\n      <td>1180</td>\n      <td>0</td>\n      <td>1955</td>\n      <td>0</td>\n      <td>98178</td>\n      <td>47.5112</td>\n      <td>-122.257</td>\n      <td>1340</td>\n      <td>5650</td>\n    </tr>\n    <tr>\n      <th>1</th>\n      <td>6414100192</td>\n      <td>20141209T000000</td>\n      <td>538000.0</td>\n      <td>3</td>\n      <td>2.25</td>\n      <td>2570</td>\n      <td>7242</td>\n      <td>2.0</td>\n      <td>0</td>\n      <td>0</td>\n      <td>...</td>\n      <td>7</td>\n      <td>2170</td>\n      <td>400</td>\n      <td>1951</td>\n      <td>1991</td>\n      <td>98125</td>\n      <td>47.7210</td>\n      <td>-122.319</td>\n      <td>1690</td>\n      <td>7639</td>\n    </tr>\n    <tr>\n      <th>2</th>\n      <td>5631500400</td>\n      <td>20150225T000000</td>\n      <td>180000.0</td>\n      <td>2</td>\n      <td>1.00</td>\n      <td>770</td>\n      <td>10000</td>\n      <td>1.0</td>\n      <td>0</td>\n      <td>0</td>\n      <td>...</td>\n      <td>6</td>\n      <td>770</td>\n      <td>0</td>\n      <td>1933</td>\n      <td>0</td>\n      <td>98028</td>\n      <td>47.7379</td>\n      <td>-122.233</td>\n      <td>2720</td>\n      <td>8062</td>\n    </tr>\n    <tr>\n      <th>3</th>\n      <td>2487200875</td>\n      <td>20141209T000000</td>\n      <td>604000.0</td>\n      <td>4</td>\n      <td>3.00</td>\n      <td>1960</td>\n      <td>5000</td>\n      <td>1.0</td>\n      <td>0</td>\n      <td>0</td>\n      <td>...</td>\n      <td>7</td>\n      <td>1050</td>\n      <td>910</td>\n      <td>1965</td>\n      <td>0</td>\n      <td>98136</td>\n      <td>47.5208</td>\n      <td>-122.393</td>\n      <td>1360</td>\n      <td>5000</td>\n    </tr>\n    <tr>\n      <th>4</th>\n      <td>1954400510</td>\n      <td>20150218T000000</td>\n      <td>510000.0</td>\n      <td>3</td>\n      <td>2.00</td>\n      <td>1680</td>\n      <td>8080</td>\n      <td>1.0</td>\n      <td>0</td>\n      <td>0</td>\n      <td>...</td>\n      <td>8</td>\n      <td>1680</td>\n      <td>0</td>\n      <td>1987</td>\n      <td>0</td>\n      <td>98074</td>\n      <td>47.6168</td>\n      <td>-122.045</td>\n      <td>1800</td>\n      <td>7503</td>\n    </tr>\n  </tbody>\n</table>\n<p>5 rows × 21 columns</p>\n</div>"
          },
          "metadata": {}
        }
      ],
      "execution_count": 14
    },
    {
      "cell_type": "markdown",
      "source": "#### Ответ на 1.1",
      "metadata": {}
    },
    {
      "cell_type": "code",
      "source": "df['price_specific_area']=df['price']/df['sqft_lot']",
      "metadata": {
        "trusted": true
      },
      "outputs": [],
      "execution_count": 15
    },
    {
      "cell_type": "code",
      "source": "df[['price','sqft_lot','price_specific_area']].sort_values('sqft_lot').head(15)",
      "metadata": {
        "trusted": true
      },
      "outputs": [
        {
          "execution_count": 16,
          "output_type": "execute_result",
          "data": {
            "text/plain": "           price  sqft_lot  price_specific_area\n15743   700000.0       520          1346.153846\n5826    250000.0       572           437.062937\n7589    367500.0       600           612.500000\n3452   1234570.0       609          2027.208539\n20604   256950.0       635           404.645669\n21552   516500.0       638           809.561129\n547     259950.0       649           400.539291\n4352    259950.0       649           400.539291\n19662   405000.0       651           622.119816\n21519   420000.0       675           622.222222\n7213    304000.0       676           449.704142\n21381   339950.0       681           499.192364\n20095   335000.0       683           490.483163\n15669   570000.0       690           826.086957\n20994   650000.0       690           942.028986",
            "text/html": "<div>\n<style scoped>\n    .dataframe tbody tr th:only-of-type {\n        vertical-align: middle;\n    }\n\n    .dataframe tbody tr th {\n        vertical-align: top;\n    }\n\n    .dataframe thead th {\n        text-align: right;\n    }\n</style>\n<table border=\"1\" class=\"dataframe\">\n  <thead>\n    <tr style=\"text-align: right;\">\n      <th></th>\n      <th>price</th>\n      <th>sqft_lot</th>\n      <th>price_specific_area</th>\n    </tr>\n  </thead>\n  <tbody>\n    <tr>\n      <th>15743</th>\n      <td>700000.0</td>\n      <td>520</td>\n      <td>1346.153846</td>\n    </tr>\n    <tr>\n      <th>5826</th>\n      <td>250000.0</td>\n      <td>572</td>\n      <td>437.062937</td>\n    </tr>\n    <tr>\n      <th>7589</th>\n      <td>367500.0</td>\n      <td>600</td>\n      <td>612.500000</td>\n    </tr>\n    <tr>\n      <th>3452</th>\n      <td>1234570.0</td>\n      <td>609</td>\n      <td>2027.208539</td>\n    </tr>\n    <tr>\n      <th>20604</th>\n      <td>256950.0</td>\n      <td>635</td>\n      <td>404.645669</td>\n    </tr>\n    <tr>\n      <th>21552</th>\n      <td>516500.0</td>\n      <td>638</td>\n      <td>809.561129</td>\n    </tr>\n    <tr>\n      <th>547</th>\n      <td>259950.0</td>\n      <td>649</td>\n      <td>400.539291</td>\n    </tr>\n    <tr>\n      <th>4352</th>\n      <td>259950.0</td>\n      <td>649</td>\n      <td>400.539291</td>\n    </tr>\n    <tr>\n      <th>19662</th>\n      <td>405000.0</td>\n      <td>651</td>\n      <td>622.119816</td>\n    </tr>\n    <tr>\n      <th>21519</th>\n      <td>420000.0</td>\n      <td>675</td>\n      <td>622.222222</td>\n    </tr>\n    <tr>\n      <th>7213</th>\n      <td>304000.0</td>\n      <td>676</td>\n      <td>449.704142</td>\n    </tr>\n    <tr>\n      <th>21381</th>\n      <td>339950.0</td>\n      <td>681</td>\n      <td>499.192364</td>\n    </tr>\n    <tr>\n      <th>20095</th>\n      <td>335000.0</td>\n      <td>683</td>\n      <td>490.483163</td>\n    </tr>\n    <tr>\n      <th>15669</th>\n      <td>570000.0</td>\n      <td>690</td>\n      <td>826.086957</td>\n    </tr>\n    <tr>\n      <th>20994</th>\n      <td>650000.0</td>\n      <td>690</td>\n      <td>942.028986</td>\n    </tr>\n  </tbody>\n</table>\n</div>"
          },
          "metadata": {}
        }
      ],
      "execution_count": 16
    },
    {
      "cell_type": "markdown",
      "source": "#### Ответ на 1.2",
      "metadata": {}
    },
    {
      "cell_type": "code",
      "source": "df['delta_renovated'] = 0",
      "metadata": {
        "trusted": true
      },
      "outputs": [],
      "execution_count": 17
    },
    {
      "cell_type": "code",
      "source": "df.loc[df['yr_renovated'] != 0, 'delta_renovated'] = df['yr_renovated'] - df['yr_built']",
      "metadata": {
        "trusted": true
      },
      "outputs": [],
      "execution_count": 18
    },
    {
      "cell_type": "code",
      "source": "df.delta_renovated.sort_values()",
      "metadata": {
        "trusted": true
      },
      "outputs": [
        {
          "execution_count": 19,
          "output_type": "execute_result",
          "data": {
            "text/plain": "0          0\n14285      0\n14284      0\n14283      0\n14282      0\n        ... \n586      110\n6671     113\n2566     114\n15046    114\n11695    114\nName: delta_renovated, Length: 21613, dtype: int64"
          },
          "metadata": {}
        }
      ],
      "execution_count": 19
    },
    {
      "cell_type": "markdown",
      "source": "#### Ответ на 1.3",
      "metadata": {}
    },
    {
      "cell_type": "code",
      "source": "df['date'] = pd.to_datetime(df['date'])\ndf['year_sale'] = df['date'].apply(lambda x: x.date().year)\ndf['month_sale'] = df['date'].apply(lambda x: x.date().month)\nd = dict(enumerate(calendar.month_abbr))\ndf['month_sale'] = df['month_sale'].map(d)\ndf.sample(5)",
      "metadata": {
        "trusted": true
      },
      "outputs": [
        {
          "execution_count": 20,
          "output_type": "execute_result",
          "data": {
            "text/plain": "               id       date     price  bedrooms  bathrooms  sqft_living  \\\n18067  7658600150 2014-06-30  435000.0         4       2.00         1880   \n15353   644210020 2015-01-05  780000.0         4       2.50         3020   \n12926  3293700482 2015-01-14  509000.0         3       2.25         1780   \n14485  3523069060 2015-04-01  415000.0         3       1.75         1340   \n13116  7701930180 2014-11-10  600000.0         4       3.50         4300   \n\n       sqft_lot  floors  waterfront  view  ...  yr_renovated  zipcode  \\\n18067      3840     1.0           0     0  ...             0    98144   \n15353     15164     1.0           0     0  ...             0    98004   \n12926      9315     2.0           0     0  ...             0    98133   \n14485     63597     1.0           0     0  ...             0    98038   \n13116     70407     2.0           0     0  ...             0    98058   \n\n           lat     long  sqft_living15  sqft_lot15  price_specific_area  \\\n18067  47.5929 -122.303           1670        1820           113.281250   \n15353  47.5882 -122.192           2600       11556            51.437615   \n12926  47.7484 -122.353           1780        8545            54.643049   \n14485  47.4379 -122.011           1950       87120             6.525465   \n13116  47.4472 -122.092           3520       26727             8.521880   \n\n       delta_renovated  year_sale  month_sale  \n18067                0       2014         Jun  \n15353                0       2015         Jan  \n12926                0       2015         Jan  \n14485                0       2015         Apr  \n13116                0       2014         Nov  \n\n[5 rows x 25 columns]",
            "text/html": "<div>\n<style scoped>\n    .dataframe tbody tr th:only-of-type {\n        vertical-align: middle;\n    }\n\n    .dataframe tbody tr th {\n        vertical-align: top;\n    }\n\n    .dataframe thead th {\n        text-align: right;\n    }\n</style>\n<table border=\"1\" class=\"dataframe\">\n  <thead>\n    <tr style=\"text-align: right;\">\n      <th></th>\n      <th>id</th>\n      <th>date</th>\n      <th>price</th>\n      <th>bedrooms</th>\n      <th>bathrooms</th>\n      <th>sqft_living</th>\n      <th>sqft_lot</th>\n      <th>floors</th>\n      <th>waterfront</th>\n      <th>view</th>\n      <th>...</th>\n      <th>yr_renovated</th>\n      <th>zipcode</th>\n      <th>lat</th>\n      <th>long</th>\n      <th>sqft_living15</th>\n      <th>sqft_lot15</th>\n      <th>price_specific_area</th>\n      <th>delta_renovated</th>\n      <th>year_sale</th>\n      <th>month_sale</th>\n    </tr>\n  </thead>\n  <tbody>\n    <tr>\n      <th>18067</th>\n      <td>7658600150</td>\n      <td>2014-06-30</td>\n      <td>435000.0</td>\n      <td>4</td>\n      <td>2.00</td>\n      <td>1880</td>\n      <td>3840</td>\n      <td>1.0</td>\n      <td>0</td>\n      <td>0</td>\n      <td>...</td>\n      <td>0</td>\n      <td>98144</td>\n      <td>47.5929</td>\n      <td>-122.303</td>\n      <td>1670</td>\n      <td>1820</td>\n      <td>113.281250</td>\n      <td>0</td>\n      <td>2014</td>\n      <td>Jun</td>\n    </tr>\n    <tr>\n      <th>15353</th>\n      <td>644210020</td>\n      <td>2015-01-05</td>\n      <td>780000.0</td>\n      <td>4</td>\n      <td>2.50</td>\n      <td>3020</td>\n      <td>15164</td>\n      <td>1.0</td>\n      <td>0</td>\n      <td>0</td>\n      <td>...</td>\n      <td>0</td>\n      <td>98004</td>\n      <td>47.5882</td>\n      <td>-122.192</td>\n      <td>2600</td>\n      <td>11556</td>\n      <td>51.437615</td>\n      <td>0</td>\n      <td>2015</td>\n      <td>Jan</td>\n    </tr>\n    <tr>\n      <th>12926</th>\n      <td>3293700482</td>\n      <td>2015-01-14</td>\n      <td>509000.0</td>\n      <td>3</td>\n      <td>2.25</td>\n      <td>1780</td>\n      <td>9315</td>\n      <td>2.0</td>\n      <td>0</td>\n      <td>0</td>\n      <td>...</td>\n      <td>0</td>\n      <td>98133</td>\n      <td>47.7484</td>\n      <td>-122.353</td>\n      <td>1780</td>\n      <td>8545</td>\n      <td>54.643049</td>\n      <td>0</td>\n      <td>2015</td>\n      <td>Jan</td>\n    </tr>\n    <tr>\n      <th>14485</th>\n      <td>3523069060</td>\n      <td>2015-04-01</td>\n      <td>415000.0</td>\n      <td>3</td>\n      <td>1.75</td>\n      <td>1340</td>\n      <td>63597</td>\n      <td>1.0</td>\n      <td>0</td>\n      <td>0</td>\n      <td>...</td>\n      <td>0</td>\n      <td>98038</td>\n      <td>47.4379</td>\n      <td>-122.011</td>\n      <td>1950</td>\n      <td>87120</td>\n      <td>6.525465</td>\n      <td>0</td>\n      <td>2015</td>\n      <td>Apr</td>\n    </tr>\n    <tr>\n      <th>13116</th>\n      <td>7701930180</td>\n      <td>2014-11-10</td>\n      <td>600000.0</td>\n      <td>4</td>\n      <td>3.50</td>\n      <td>4300</td>\n      <td>70407</td>\n      <td>2.0</td>\n      <td>0</td>\n      <td>0</td>\n      <td>...</td>\n      <td>0</td>\n      <td>98058</td>\n      <td>47.4472</td>\n      <td>-122.092</td>\n      <td>3520</td>\n      <td>26727</td>\n      <td>8.521880</td>\n      <td>0</td>\n      <td>2014</td>\n      <td>Nov</td>\n    </tr>\n  </tbody>\n</table>\n<p>5 rows × 25 columns</p>\n</div>"
          },
          "metadata": {}
        }
      ],
      "execution_count": 20
    },
    {
      "cell_type": "markdown",
      "source": "#### Ответ на 1.4",
      "metadata": {}
    },
    {
      "cell_type": "code",
      "source": "df.drop(columns=['date', 'zipcode', 'lat', 'long'], inplace=True)",
      "metadata": {
        "trusted": true
      },
      "outputs": [],
      "execution_count": 21
    },
    {
      "cell_type": "code",
      "source": "df.head()",
      "metadata": {
        "trusted": true
      },
      "outputs": [
        {
          "execution_count": 22,
          "output_type": "execute_result",
          "data": {
            "text/plain": "           id     price  bedrooms  bathrooms  sqft_living  sqft_lot  floors  \\\n0  7129300520  221900.0         3       1.00         1180      5650     1.0   \n1  6414100192  538000.0         3       2.25         2570      7242     2.0   \n2  5631500400  180000.0         2       1.00          770     10000     1.0   \n3  2487200875  604000.0         4       3.00         1960      5000     1.0   \n4  1954400510  510000.0         3       2.00         1680      8080     1.0   \n\n   waterfront  view  condition  ...  sqft_above  sqft_basement  yr_built  \\\n0           0     0          3  ...        1180              0      1955   \n1           0     0          3  ...        2170            400      1951   \n2           0     0          3  ...         770              0      1933   \n3           0     0          5  ...        1050            910      1965   \n4           0     0          3  ...        1680              0      1987   \n\n   yr_renovated  sqft_living15  sqft_lot15  price_specific_area  \\\n0             0           1340        5650            39.274336   \n1          1991           1690        7639            74.288870   \n2             0           2720        8062            18.000000   \n3             0           1360        5000           120.800000   \n4             0           1800        7503            63.118812   \n\n   delta_renovated  year_sale  month_sale  \n0                0       2014         Oct  \n1               40       2014         Dec  \n2                0       2015         Feb  \n3                0       2014         Dec  \n4                0       2015         Feb  \n\n[5 rows x 21 columns]",
            "text/html": "<div>\n<style scoped>\n    .dataframe tbody tr th:only-of-type {\n        vertical-align: middle;\n    }\n\n    .dataframe tbody tr th {\n        vertical-align: top;\n    }\n\n    .dataframe thead th {\n        text-align: right;\n    }\n</style>\n<table border=\"1\" class=\"dataframe\">\n  <thead>\n    <tr style=\"text-align: right;\">\n      <th></th>\n      <th>id</th>\n      <th>price</th>\n      <th>bedrooms</th>\n      <th>bathrooms</th>\n      <th>sqft_living</th>\n      <th>sqft_lot</th>\n      <th>floors</th>\n      <th>waterfront</th>\n      <th>view</th>\n      <th>condition</th>\n      <th>...</th>\n      <th>sqft_above</th>\n      <th>sqft_basement</th>\n      <th>yr_built</th>\n      <th>yr_renovated</th>\n      <th>sqft_living15</th>\n      <th>sqft_lot15</th>\n      <th>price_specific_area</th>\n      <th>delta_renovated</th>\n      <th>year_sale</th>\n      <th>month_sale</th>\n    </tr>\n  </thead>\n  <tbody>\n    <tr>\n      <th>0</th>\n      <td>7129300520</td>\n      <td>221900.0</td>\n      <td>3</td>\n      <td>1.00</td>\n      <td>1180</td>\n      <td>5650</td>\n      <td>1.0</td>\n      <td>0</td>\n      <td>0</td>\n      <td>3</td>\n      <td>...</td>\n      <td>1180</td>\n      <td>0</td>\n      <td>1955</td>\n      <td>0</td>\n      <td>1340</td>\n      <td>5650</td>\n      <td>39.274336</td>\n      <td>0</td>\n      <td>2014</td>\n      <td>Oct</td>\n    </tr>\n    <tr>\n      <th>1</th>\n      <td>6414100192</td>\n      <td>538000.0</td>\n      <td>3</td>\n      <td>2.25</td>\n      <td>2570</td>\n      <td>7242</td>\n      <td>2.0</td>\n      <td>0</td>\n      <td>0</td>\n      <td>3</td>\n      <td>...</td>\n      <td>2170</td>\n      <td>400</td>\n      <td>1951</td>\n      <td>1991</td>\n      <td>1690</td>\n      <td>7639</td>\n      <td>74.288870</td>\n      <td>40</td>\n      <td>2014</td>\n      <td>Dec</td>\n    </tr>\n    <tr>\n      <th>2</th>\n      <td>5631500400</td>\n      <td>180000.0</td>\n      <td>2</td>\n      <td>1.00</td>\n      <td>770</td>\n      <td>10000</td>\n      <td>1.0</td>\n      <td>0</td>\n      <td>0</td>\n      <td>3</td>\n      <td>...</td>\n      <td>770</td>\n      <td>0</td>\n      <td>1933</td>\n      <td>0</td>\n      <td>2720</td>\n      <td>8062</td>\n      <td>18.000000</td>\n      <td>0</td>\n      <td>2015</td>\n      <td>Feb</td>\n    </tr>\n    <tr>\n      <th>3</th>\n      <td>2487200875</td>\n      <td>604000.0</td>\n      <td>4</td>\n      <td>3.00</td>\n      <td>1960</td>\n      <td>5000</td>\n      <td>1.0</td>\n      <td>0</td>\n      <td>0</td>\n      <td>5</td>\n      <td>...</td>\n      <td>1050</td>\n      <td>910</td>\n      <td>1965</td>\n      <td>0</td>\n      <td>1360</td>\n      <td>5000</td>\n      <td>120.800000</td>\n      <td>0</td>\n      <td>2014</td>\n      <td>Dec</td>\n    </tr>\n    <tr>\n      <th>4</th>\n      <td>1954400510</td>\n      <td>510000.0</td>\n      <td>3</td>\n      <td>2.00</td>\n      <td>1680</td>\n      <td>8080</td>\n      <td>1.0</td>\n      <td>0</td>\n      <td>0</td>\n      <td>3</td>\n      <td>...</td>\n      <td>1680</td>\n      <td>0</td>\n      <td>1987</td>\n      <td>0</td>\n      <td>1800</td>\n      <td>7503</td>\n      <td>63.118812</td>\n      <td>0</td>\n      <td>2015</td>\n      <td>Feb</td>\n    </tr>\n  </tbody>\n</table>\n<p>5 rows × 21 columns</p>\n</div>"
          },
          "metadata": {}
        }
      ],
      "execution_count": 22
    },
    {
      "cell_type": "markdown",
      "source": "### Домашнее задание 2\n#### Создайте датафрейм с клиентами:\n##### clients = pd.DataFrame({\n##### 'client_id': [1459, 4684, 3498, 3942, 4535, 2308, 2866, 2765, 1472, 4236, 2295, 939, 3840, 280, 20, 4332, 3475, 4213, 3113, 4809, 2134, 2242, 2068, 4929, 1384, 1589, 3317, 2260, 1727, 1764, 1611, 1474],\n##### 'house_id': [8965450190, 6823100225, 5104540330, 2131701075, 1522700060, 1189000207, 6821600300, 7137950720, 9510920050, 6131600255, 5428000070, 1788800910, 8100400160, 3123049142, 6306800010, 5083000375, 7920100025, 1951600150, 809001400, 339600110, 1622049154, 1099600250, 8563000110, 2768100205, 3995700435, 8861700030, 3303980210, 7731100066, 8146100580, 825069097, 3889100029, 9524100196]})\n###### * house_id - это индексы датафрейма с домами\n##### 2.1 Присоедините к таблице clients данные по домам через метод join\n##### 2.2 Присоедините к таблице clients данные по домам через метод merge",
      "metadata": {}
    },
    {
      "cell_type": "code",
      "source": "clients = pd.DataFrame({\n'client_id': [1459, 4684, 3498, 3942, 4535, 2308, 2866, 2765, 1472, 4236, 2295, 939, 3840, 280, 20, 4332, 3475, 4213, 3113, 4809, 2134, 2242, 2068, 4929, 1384, 1589, 3317, 2260, 1727, 1764, 1611, 1474],\n'house_id': [8965450190, 6823100225, 5104540330, 2131701075, 1522700060, 1189000207, 6821600300, 7137950720, 9510920050, 6131600255, 5428000070, 1788800910, 8100400160, 3123049142, 6306800010, 5083000375, 7920100025, 1951600150, 809001400, 339600110, 1622049154, 1099600250, 8563000110, 2768100205, 3995700435, 8861700030, 3303980210, 7731100066, 8146100580, 825069097, 3889100029, 9524100196]\n})",
      "metadata": {
        "trusted": true
      },
      "outputs": [],
      "execution_count": 23
    },
    {
      "cell_type": "code",
      "source": "clients_house_id = clients.set_index('house_id')",
      "metadata": {
        "trusted": true
      },
      "outputs": [],
      "execution_count": 24
    },
    {
      "cell_type": "code",
      "source": "clients_house_id.head()",
      "metadata": {
        "trusted": true
      },
      "outputs": [
        {
          "execution_count": 25,
          "output_type": "execute_result",
          "data": {
            "text/plain": "            client_id\nhouse_id             \n8965450190       1459\n6823100225       4684\n5104540330       3498\n2131701075       3942\n1522700060       4535",
            "text/html": "<div>\n<style scoped>\n    .dataframe tbody tr th:only-of-type {\n        vertical-align: middle;\n    }\n\n    .dataframe tbody tr th {\n        vertical-align: top;\n    }\n\n    .dataframe thead th {\n        text-align: right;\n    }\n</style>\n<table border=\"1\" class=\"dataframe\">\n  <thead>\n    <tr style=\"text-align: right;\">\n      <th></th>\n      <th>client_id</th>\n    </tr>\n    <tr>\n      <th>house_id</th>\n      <th></th>\n    </tr>\n  </thead>\n  <tbody>\n    <tr>\n      <th>8965450190</th>\n      <td>1459</td>\n    </tr>\n    <tr>\n      <th>6823100225</th>\n      <td>4684</td>\n    </tr>\n    <tr>\n      <th>5104540330</th>\n      <td>3498</td>\n    </tr>\n    <tr>\n      <th>2131701075</th>\n      <td>3942</td>\n    </tr>\n    <tr>\n      <th>1522700060</th>\n      <td>4535</td>\n    </tr>\n  </tbody>\n</table>\n</div>"
          },
          "metadata": {}
        }
      ],
      "execution_count": 25
    },
    {
      "cell_type": "code",
      "source": "df_idx = df.set_index('id')",
      "metadata": {
        "trusted": true
      },
      "outputs": [],
      "execution_count": 26
    },
    {
      "cell_type": "code",
      "source": "df_idx.head()",
      "metadata": {
        "trusted": true
      },
      "outputs": [
        {
          "execution_count": 27,
          "output_type": "execute_result",
          "data": {
            "text/plain": "               price  bedrooms  bathrooms  sqft_living  sqft_lot  floors  \\\nid                                                                         \n7129300520  221900.0         3       1.00         1180      5650     1.0   \n6414100192  538000.0         3       2.25         2570      7242     2.0   \n5631500400  180000.0         2       1.00          770     10000     1.0   \n2487200875  604000.0         4       3.00         1960      5000     1.0   \n1954400510  510000.0         3       2.00         1680      8080     1.0   \n\n            waterfront  view  condition  grade  sqft_above  sqft_basement  \\\nid                                                                          \n7129300520           0     0          3      7        1180              0   \n6414100192           0     0          3      7        2170            400   \n5631500400           0     0          3      6         770              0   \n2487200875           0     0          5      7        1050            910   \n1954400510           0     0          3      8        1680              0   \n\n            yr_built  yr_renovated  sqft_living15  sqft_lot15  \\\nid                                                              \n7129300520      1955             0           1340        5650   \n6414100192      1951          1991           1690        7639   \n5631500400      1933             0           2720        8062   \n2487200875      1965             0           1360        5000   \n1954400510      1987             0           1800        7503   \n\n            price_specific_area  delta_renovated  year_sale month_sale  \nid                                                                      \n7129300520            39.274336                0       2014        Oct  \n6414100192            74.288870               40       2014        Dec  \n5631500400            18.000000                0       2015        Feb  \n2487200875           120.800000                0       2014        Dec  \n1954400510            63.118812                0       2015        Feb  ",
            "text/html": "<div>\n<style scoped>\n    .dataframe tbody tr th:only-of-type {\n        vertical-align: middle;\n    }\n\n    .dataframe tbody tr th {\n        vertical-align: top;\n    }\n\n    .dataframe thead th {\n        text-align: right;\n    }\n</style>\n<table border=\"1\" class=\"dataframe\">\n  <thead>\n    <tr style=\"text-align: right;\">\n      <th></th>\n      <th>price</th>\n      <th>bedrooms</th>\n      <th>bathrooms</th>\n      <th>sqft_living</th>\n      <th>sqft_lot</th>\n      <th>floors</th>\n      <th>waterfront</th>\n      <th>view</th>\n      <th>condition</th>\n      <th>grade</th>\n      <th>sqft_above</th>\n      <th>sqft_basement</th>\n      <th>yr_built</th>\n      <th>yr_renovated</th>\n      <th>sqft_living15</th>\n      <th>sqft_lot15</th>\n      <th>price_specific_area</th>\n      <th>delta_renovated</th>\n      <th>year_sale</th>\n      <th>month_sale</th>\n    </tr>\n    <tr>\n      <th>id</th>\n      <th></th>\n      <th></th>\n      <th></th>\n      <th></th>\n      <th></th>\n      <th></th>\n      <th></th>\n      <th></th>\n      <th></th>\n      <th></th>\n      <th></th>\n      <th></th>\n      <th></th>\n      <th></th>\n      <th></th>\n      <th></th>\n      <th></th>\n      <th></th>\n      <th></th>\n      <th></th>\n    </tr>\n  </thead>\n  <tbody>\n    <tr>\n      <th>7129300520</th>\n      <td>221900.0</td>\n      <td>3</td>\n      <td>1.00</td>\n      <td>1180</td>\n      <td>5650</td>\n      <td>1.0</td>\n      <td>0</td>\n      <td>0</td>\n      <td>3</td>\n      <td>7</td>\n      <td>1180</td>\n      <td>0</td>\n      <td>1955</td>\n      <td>0</td>\n      <td>1340</td>\n      <td>5650</td>\n      <td>39.274336</td>\n      <td>0</td>\n      <td>2014</td>\n      <td>Oct</td>\n    </tr>\n    <tr>\n      <th>6414100192</th>\n      <td>538000.0</td>\n      <td>3</td>\n      <td>2.25</td>\n      <td>2570</td>\n      <td>7242</td>\n      <td>2.0</td>\n      <td>0</td>\n      <td>0</td>\n      <td>3</td>\n      <td>7</td>\n      <td>2170</td>\n      <td>400</td>\n      <td>1951</td>\n      <td>1991</td>\n      <td>1690</td>\n      <td>7639</td>\n      <td>74.288870</td>\n      <td>40</td>\n      <td>2014</td>\n      <td>Dec</td>\n    </tr>\n    <tr>\n      <th>5631500400</th>\n      <td>180000.0</td>\n      <td>2</td>\n      <td>1.00</td>\n      <td>770</td>\n      <td>10000</td>\n      <td>1.0</td>\n      <td>0</td>\n      <td>0</td>\n      <td>3</td>\n      <td>6</td>\n      <td>770</td>\n      <td>0</td>\n      <td>1933</td>\n      <td>0</td>\n      <td>2720</td>\n      <td>8062</td>\n      <td>18.000000</td>\n      <td>0</td>\n      <td>2015</td>\n      <td>Feb</td>\n    </tr>\n    <tr>\n      <th>2487200875</th>\n      <td>604000.0</td>\n      <td>4</td>\n      <td>3.00</td>\n      <td>1960</td>\n      <td>5000</td>\n      <td>1.0</td>\n      <td>0</td>\n      <td>0</td>\n      <td>5</td>\n      <td>7</td>\n      <td>1050</td>\n      <td>910</td>\n      <td>1965</td>\n      <td>0</td>\n      <td>1360</td>\n      <td>5000</td>\n      <td>120.800000</td>\n      <td>0</td>\n      <td>2014</td>\n      <td>Dec</td>\n    </tr>\n    <tr>\n      <th>1954400510</th>\n      <td>510000.0</td>\n      <td>3</td>\n      <td>2.00</td>\n      <td>1680</td>\n      <td>8080</td>\n      <td>1.0</td>\n      <td>0</td>\n      <td>0</td>\n      <td>3</td>\n      <td>8</td>\n      <td>1680</td>\n      <td>0</td>\n      <td>1987</td>\n      <td>0</td>\n      <td>1800</td>\n      <td>7503</td>\n      <td>63.118812</td>\n      <td>0</td>\n      <td>2015</td>\n      <td>Feb</td>\n    </tr>\n  </tbody>\n</table>\n</div>"
          },
          "metadata": {}
        }
      ],
      "execution_count": 27
    },
    {
      "cell_type": "markdown",
      "source": "#### Ответ на 2.1",
      "metadata": {}
    },
    {
      "cell_type": "code",
      "source": "joined = clients_house_id.join(df_idx)",
      "metadata": {
        "trusted": true
      },
      "outputs": [],
      "execution_count": 28
    },
    {
      "cell_type": "code",
      "source": "joined.head()",
      "metadata": {
        "trusted": true
      },
      "outputs": [
        {
          "execution_count": 29,
          "output_type": "execute_result",
          "data": {
            "text/plain": "            client_id     price  bedrooms  bathrooms  sqft_living  sqft_lot  \\\nhouse_id                                                                      \n8965450190       1459  295000.0         3       2.50         1500      3060   \n6823100225       4684  700000.0         4       1.75         1870      6000   \n5104540330       3498  679000.0         4       2.50         3680      7236   \n2131701075       3942  420000.0         3       1.75         1720      5000   \n1522700060       4535  518000.0         4       2.75         2520     14021   \n\n            floors  waterfront  view  condition  ...  sqft_above  \\\nhouse_id                                         ...               \n8965450190     2.0           0     0          3  ...        1500   \n6823100225     1.0           0     0          5  ...        1670   \n5104540330     2.0           0     0          3  ...        3680   \n2131701075     1.5           0     0          3  ...        1720   \n1522700060     2.0           0     0          3  ...        2520   \n\n            sqft_basement  yr_built  yr_renovated  sqft_living15  sqft_lot15  \\\nhouse_id                                                                       \n8965450190              0      1994             0           2700        7734   \n6823100225            200      1949             0           1710        6000   \n5104540330              0      2006             0           3310        7180   \n2131701075              0      1932          2009           1410        8300   \n1522700060              0      1999             0           2330       14007   \n\n            price_specific_area  delta_renovated  year_sale  month_sale  \nhouse_id                                                                 \n8965450190            96.405229                0       2015         Feb  \n6823100225           116.666667                0       2015         Apr  \n5104540330            93.836374                0       2015         May  \n2131701075            84.000000               77       2014         Dec  \n1522700060            36.944583                0       2014         Jun  \n\n[5 rows x 21 columns]",
            "text/html": "<div>\n<style scoped>\n    .dataframe tbody tr th:only-of-type {\n        vertical-align: middle;\n    }\n\n    .dataframe tbody tr th {\n        vertical-align: top;\n    }\n\n    .dataframe thead th {\n        text-align: right;\n    }\n</style>\n<table border=\"1\" class=\"dataframe\">\n  <thead>\n    <tr style=\"text-align: right;\">\n      <th></th>\n      <th>client_id</th>\n      <th>price</th>\n      <th>bedrooms</th>\n      <th>bathrooms</th>\n      <th>sqft_living</th>\n      <th>sqft_lot</th>\n      <th>floors</th>\n      <th>waterfront</th>\n      <th>view</th>\n      <th>condition</th>\n      <th>...</th>\n      <th>sqft_above</th>\n      <th>sqft_basement</th>\n      <th>yr_built</th>\n      <th>yr_renovated</th>\n      <th>sqft_living15</th>\n      <th>sqft_lot15</th>\n      <th>price_specific_area</th>\n      <th>delta_renovated</th>\n      <th>year_sale</th>\n      <th>month_sale</th>\n    </tr>\n    <tr>\n      <th>house_id</th>\n      <th></th>\n      <th></th>\n      <th></th>\n      <th></th>\n      <th></th>\n      <th></th>\n      <th></th>\n      <th></th>\n      <th></th>\n      <th></th>\n      <th></th>\n      <th></th>\n      <th></th>\n      <th></th>\n      <th></th>\n      <th></th>\n      <th></th>\n      <th></th>\n      <th></th>\n      <th></th>\n      <th></th>\n    </tr>\n  </thead>\n  <tbody>\n    <tr>\n      <th>8965450190</th>\n      <td>1459</td>\n      <td>295000.0</td>\n      <td>3</td>\n      <td>2.50</td>\n      <td>1500</td>\n      <td>3060</td>\n      <td>2.0</td>\n      <td>0</td>\n      <td>0</td>\n      <td>3</td>\n      <td>...</td>\n      <td>1500</td>\n      <td>0</td>\n      <td>1994</td>\n      <td>0</td>\n      <td>2700</td>\n      <td>7734</td>\n      <td>96.405229</td>\n      <td>0</td>\n      <td>2015</td>\n      <td>Feb</td>\n    </tr>\n    <tr>\n      <th>6823100225</th>\n      <td>4684</td>\n      <td>700000.0</td>\n      <td>4</td>\n      <td>1.75</td>\n      <td>1870</td>\n      <td>6000</td>\n      <td>1.0</td>\n      <td>0</td>\n      <td>0</td>\n      <td>5</td>\n      <td>...</td>\n      <td>1670</td>\n      <td>200</td>\n      <td>1949</td>\n      <td>0</td>\n      <td>1710</td>\n      <td>6000</td>\n      <td>116.666667</td>\n      <td>0</td>\n      <td>2015</td>\n      <td>Apr</td>\n    </tr>\n    <tr>\n      <th>5104540330</th>\n      <td>3498</td>\n      <td>679000.0</td>\n      <td>4</td>\n      <td>2.50</td>\n      <td>3680</td>\n      <td>7236</td>\n      <td>2.0</td>\n      <td>0</td>\n      <td>0</td>\n      <td>3</td>\n      <td>...</td>\n      <td>3680</td>\n      <td>0</td>\n      <td>2006</td>\n      <td>0</td>\n      <td>3310</td>\n      <td>7180</td>\n      <td>93.836374</td>\n      <td>0</td>\n      <td>2015</td>\n      <td>May</td>\n    </tr>\n    <tr>\n      <th>2131701075</th>\n      <td>3942</td>\n      <td>420000.0</td>\n      <td>3</td>\n      <td>1.75</td>\n      <td>1720</td>\n      <td>5000</td>\n      <td>1.5</td>\n      <td>0</td>\n      <td>0</td>\n      <td>3</td>\n      <td>...</td>\n      <td>1720</td>\n      <td>0</td>\n      <td>1932</td>\n      <td>2009</td>\n      <td>1410</td>\n      <td>8300</td>\n      <td>84.000000</td>\n      <td>77</td>\n      <td>2014</td>\n      <td>Dec</td>\n    </tr>\n    <tr>\n      <th>1522700060</th>\n      <td>4535</td>\n      <td>518000.0</td>\n      <td>4</td>\n      <td>2.75</td>\n      <td>2520</td>\n      <td>14021</td>\n      <td>2.0</td>\n      <td>0</td>\n      <td>0</td>\n      <td>3</td>\n      <td>...</td>\n      <td>2520</td>\n      <td>0</td>\n      <td>1999</td>\n      <td>0</td>\n      <td>2330</td>\n      <td>14007</td>\n      <td>36.944583</td>\n      <td>0</td>\n      <td>2014</td>\n      <td>Jun</td>\n    </tr>\n  </tbody>\n</table>\n<p>5 rows × 21 columns</p>\n</div>"
          },
          "metadata": {}
        }
      ],
      "execution_count": 29
    },
    {
      "cell_type": "markdown",
      "source": "#### Ответ на 2.2",
      "metadata": {}
    },
    {
      "cell_type": "code",
      "source": "merged = clients.merge(df, left_on = 'house_id', right_on = 'id')",
      "metadata": {
        "trusted": true
      },
      "outputs": [],
      "execution_count": 30
    },
    {
      "cell_type": "code",
      "source": "merged.head()",
      "metadata": {
        "trusted": true
      },
      "outputs": [
        {
          "execution_count": 31,
          "output_type": "execute_result",
          "data": {
            "text/plain": "   client_id    house_id          id     price  bedrooms  bathrooms  \\\n0       1459  8965450190  8965450190  295000.0         3       2.50   \n1       4684  6823100225  6823100225  700000.0         4       1.75   \n2       3498  5104540330  5104540330  679000.0         4       2.50   \n3       3942  2131701075  2131701075  420000.0         3       1.75   \n4       4535  1522700060  1522700060  518000.0         4       2.75   \n\n   sqft_living  sqft_lot  floors  waterfront  ...  sqft_above  sqft_basement  \\\n0         1500      3060     2.0           0  ...        1500              0   \n1         1870      6000     1.0           0  ...        1670            200   \n2         3680      7236     2.0           0  ...        3680              0   \n3         1720      5000     1.5           0  ...        1720              0   \n4         2520     14021     2.0           0  ...        2520              0   \n\n   yr_built  yr_renovated  sqft_living15  sqft_lot15  price_specific_area  \\\n0      1994             0           2700        7734            96.405229   \n1      1949             0           1710        6000           116.666667   \n2      2006             0           3310        7180            93.836374   \n3      1932          2009           1410        8300            84.000000   \n4      1999             0           2330       14007            36.944583   \n\n   delta_renovated  year_sale  month_sale  \n0                0       2015         Feb  \n1                0       2015         Apr  \n2                0       2015         May  \n3               77       2014         Dec  \n4                0       2014         Jun  \n\n[5 rows x 23 columns]",
            "text/html": "<div>\n<style scoped>\n    .dataframe tbody tr th:only-of-type {\n        vertical-align: middle;\n    }\n\n    .dataframe tbody tr th {\n        vertical-align: top;\n    }\n\n    .dataframe thead th {\n        text-align: right;\n    }\n</style>\n<table border=\"1\" class=\"dataframe\">\n  <thead>\n    <tr style=\"text-align: right;\">\n      <th></th>\n      <th>client_id</th>\n      <th>house_id</th>\n      <th>id</th>\n      <th>price</th>\n      <th>bedrooms</th>\n      <th>bathrooms</th>\n      <th>sqft_living</th>\n      <th>sqft_lot</th>\n      <th>floors</th>\n      <th>waterfront</th>\n      <th>...</th>\n      <th>sqft_above</th>\n      <th>sqft_basement</th>\n      <th>yr_built</th>\n      <th>yr_renovated</th>\n      <th>sqft_living15</th>\n      <th>sqft_lot15</th>\n      <th>price_specific_area</th>\n      <th>delta_renovated</th>\n      <th>year_sale</th>\n      <th>month_sale</th>\n    </tr>\n  </thead>\n  <tbody>\n    <tr>\n      <th>0</th>\n      <td>1459</td>\n      <td>8965450190</td>\n      <td>8965450190</td>\n      <td>295000.0</td>\n      <td>3</td>\n      <td>2.50</td>\n      <td>1500</td>\n      <td>3060</td>\n      <td>2.0</td>\n      <td>0</td>\n      <td>...</td>\n      <td>1500</td>\n      <td>0</td>\n      <td>1994</td>\n      <td>0</td>\n      <td>2700</td>\n      <td>7734</td>\n      <td>96.405229</td>\n      <td>0</td>\n      <td>2015</td>\n      <td>Feb</td>\n    </tr>\n    <tr>\n      <th>1</th>\n      <td>4684</td>\n      <td>6823100225</td>\n      <td>6823100225</td>\n      <td>700000.0</td>\n      <td>4</td>\n      <td>1.75</td>\n      <td>1870</td>\n      <td>6000</td>\n      <td>1.0</td>\n      <td>0</td>\n      <td>...</td>\n      <td>1670</td>\n      <td>200</td>\n      <td>1949</td>\n      <td>0</td>\n      <td>1710</td>\n      <td>6000</td>\n      <td>116.666667</td>\n      <td>0</td>\n      <td>2015</td>\n      <td>Apr</td>\n    </tr>\n    <tr>\n      <th>2</th>\n      <td>3498</td>\n      <td>5104540330</td>\n      <td>5104540330</td>\n      <td>679000.0</td>\n      <td>4</td>\n      <td>2.50</td>\n      <td>3680</td>\n      <td>7236</td>\n      <td>2.0</td>\n      <td>0</td>\n      <td>...</td>\n      <td>3680</td>\n      <td>0</td>\n      <td>2006</td>\n      <td>0</td>\n      <td>3310</td>\n      <td>7180</td>\n      <td>93.836374</td>\n      <td>0</td>\n      <td>2015</td>\n      <td>May</td>\n    </tr>\n    <tr>\n      <th>3</th>\n      <td>3942</td>\n      <td>2131701075</td>\n      <td>2131701075</td>\n      <td>420000.0</td>\n      <td>3</td>\n      <td>1.75</td>\n      <td>1720</td>\n      <td>5000</td>\n      <td>1.5</td>\n      <td>0</td>\n      <td>...</td>\n      <td>1720</td>\n      <td>0</td>\n      <td>1932</td>\n      <td>2009</td>\n      <td>1410</td>\n      <td>8300</td>\n      <td>84.000000</td>\n      <td>77</td>\n      <td>2014</td>\n      <td>Dec</td>\n    </tr>\n    <tr>\n      <th>4</th>\n      <td>4535</td>\n      <td>1522700060</td>\n      <td>1522700060</td>\n      <td>518000.0</td>\n      <td>4</td>\n      <td>2.75</td>\n      <td>2520</td>\n      <td>14021</td>\n      <td>2.0</td>\n      <td>0</td>\n      <td>...</td>\n      <td>2520</td>\n      <td>0</td>\n      <td>1999</td>\n      <td>0</td>\n      <td>2330</td>\n      <td>14007</td>\n      <td>36.944583</td>\n      <td>0</td>\n      <td>2014</td>\n      <td>Jun</td>\n    </tr>\n  </tbody>\n</table>\n<p>5 rows × 23 columns</p>\n</div>"
          },
          "metadata": {}
        }
      ],
      "execution_count": 31
    },
    {
      "cell_type": "markdown",
      "source": "### Домашнее задание 3\n###### Составьте несколько сводных таблиц\n##### 3.1 Найдите среднюю стоимость домов в зависимости от количества спален.\n###### Отсортируйте от меньшей стоимости к большей.\n##### 3.2 Найдите минимальную, среднюю и максимальную стоимости домов в зависимости от состояния дома.\n##### 3.3 Постройте таблицу с подсчетом количества домов в данных в зависимости от вида на набережную и оценкой вида.\n##### 3.4 Каких домов в зависимости от этажности и количества спален больше?\n##### 3.5 Постройте таблицу с подсчетом медианной стоимости домов в данных в зависимости от состояния дома и оценки дома.",
      "metadata": {}
    },
    {
      "cell_type": "markdown",
      "source": "#### Ответ на 3.1",
      "metadata": {}
    },
    {
      "cell_type": "code",
      "source": "df.groupby('bedrooms').agg({'price': 'mean'}).sort_values('price').apply(lambda x: round(x / 1000,0))",
      "metadata": {
        "trusted": true
      },
      "outputs": [
        {
          "execution_count": 32,
          "output_type": "execute_result",
          "data": {
            "text/plain": "           price\nbedrooms        \n1          318.0\n2          401.0\n0          410.0\n3          466.0\n11         520.0\n4          635.0\n33         640.0\n5          787.0\n10         819.0\n6          826.0\n9          894.0\n7          951.0\n8         1105.0",
            "text/html": "<div>\n<style scoped>\n    .dataframe tbody tr th:only-of-type {\n        vertical-align: middle;\n    }\n\n    .dataframe tbody tr th {\n        vertical-align: top;\n    }\n\n    .dataframe thead th {\n        text-align: right;\n    }\n</style>\n<table border=\"1\" class=\"dataframe\">\n  <thead>\n    <tr style=\"text-align: right;\">\n      <th></th>\n      <th>price</th>\n    </tr>\n    <tr>\n      <th>bedrooms</th>\n      <th></th>\n    </tr>\n  </thead>\n  <tbody>\n    <tr>\n      <th>1</th>\n      <td>318.0</td>\n    </tr>\n    <tr>\n      <th>2</th>\n      <td>401.0</td>\n    </tr>\n    <tr>\n      <th>0</th>\n      <td>410.0</td>\n    </tr>\n    <tr>\n      <th>3</th>\n      <td>466.0</td>\n    </tr>\n    <tr>\n      <th>11</th>\n      <td>520.0</td>\n    </tr>\n    <tr>\n      <th>4</th>\n      <td>635.0</td>\n    </tr>\n    <tr>\n      <th>33</th>\n      <td>640.0</td>\n    </tr>\n    <tr>\n      <th>5</th>\n      <td>787.0</td>\n    </tr>\n    <tr>\n      <th>10</th>\n      <td>819.0</td>\n    </tr>\n    <tr>\n      <th>6</th>\n      <td>826.0</td>\n    </tr>\n    <tr>\n      <th>9</th>\n      <td>894.0</td>\n    </tr>\n    <tr>\n      <th>7</th>\n      <td>951.0</td>\n    </tr>\n    <tr>\n      <th>8</th>\n      <td>1105.0</td>\n    </tr>\n  </tbody>\n</table>\n</div>"
          },
          "metadata": {}
        }
      ],
      "execution_count": 32
    },
    {
      "cell_type": "markdown",
      "source": "#### Ответ на 3.2",
      "metadata": {}
    },
    {
      "cell_type": "code",
      "source": "group_data = df.groupby('condition').agg({'price': ['min', 'mean', 'max']}).head()",
      "metadata": {
        "trusted": true
      },
      "outputs": [],
      "execution_count": 33
    },
    {
      "cell_type": "code",
      "source": "cols_list = group_data.columns.to_list()",
      "metadata": {
        "trusted": true
      },
      "outputs": [],
      "execution_count": 34
    },
    {
      "cell_type": "code",
      "source": "group_data.sort_values(cols_list[2])",
      "metadata": {
        "trusted": true
      },
      "outputs": [
        {
          "execution_count": 35,
          "output_type": "execute_result",
          "data": {
            "text/plain": "              price                          \n                min           mean        max\ncondition                                    \n1           78000.0  334431.666667  1500000.0\n2           80000.0  327287.145349  2555000.0\n5          110000.0  612418.089359  3650000.0\n3           75000.0  542012.578148  7062500.0\n4           89000.0  521200.390033  7700000.0",
            "text/html": "<div>\n<style scoped>\n    .dataframe tbody tr th:only-of-type {\n        vertical-align: middle;\n    }\n\n    .dataframe tbody tr th {\n        vertical-align: top;\n    }\n\n    .dataframe thead tr th {\n        text-align: left;\n    }\n\n    .dataframe thead tr:last-of-type th {\n        text-align: right;\n    }\n</style>\n<table border=\"1\" class=\"dataframe\">\n  <thead>\n    <tr>\n      <th></th>\n      <th colspan=\"3\" halign=\"left\">price</th>\n    </tr>\n    <tr>\n      <th></th>\n      <th>min</th>\n      <th>mean</th>\n      <th>max</th>\n    </tr>\n    <tr>\n      <th>condition</th>\n      <th></th>\n      <th></th>\n      <th></th>\n    </tr>\n  </thead>\n  <tbody>\n    <tr>\n      <th>1</th>\n      <td>78000.0</td>\n      <td>334431.666667</td>\n      <td>1500000.0</td>\n    </tr>\n    <tr>\n      <th>2</th>\n      <td>80000.0</td>\n      <td>327287.145349</td>\n      <td>2555000.0</td>\n    </tr>\n    <tr>\n      <th>5</th>\n      <td>110000.0</td>\n      <td>612418.089359</td>\n      <td>3650000.0</td>\n    </tr>\n    <tr>\n      <th>3</th>\n      <td>75000.0</td>\n      <td>542012.578148</td>\n      <td>7062500.0</td>\n    </tr>\n    <tr>\n      <th>4</th>\n      <td>89000.0</td>\n      <td>521200.390033</td>\n      <td>7700000.0</td>\n    </tr>\n  </tbody>\n</table>\n</div>"
          },
          "metadata": {}
        }
      ],
      "execution_count": 35
    },
    {
      "cell_type": "markdown",
      "source": "#### Ответ на 3.3",
      "metadata": {}
    },
    {
      "cell_type": "code",
      "source": "df.pivot_table(index='waterfront', columns='view',\n               values='condition', aggfunc='count',\n               fill_value=0)",
      "metadata": {
        "trusted": true
      },
      "outputs": [
        {
          "execution_count": 36,
          "output_type": "execute_result",
          "data": {
            "text/plain": "view            0    1    2    3    4\nwaterfront                           \n0           19489  331  955  491  184\n1               0    1    8   19  135",
            "text/html": "<div>\n<style scoped>\n    .dataframe tbody tr th:only-of-type {\n        vertical-align: middle;\n    }\n\n    .dataframe tbody tr th {\n        vertical-align: top;\n    }\n\n    .dataframe thead th {\n        text-align: right;\n    }\n</style>\n<table border=\"1\" class=\"dataframe\">\n  <thead>\n    <tr style=\"text-align: right;\">\n      <th>view</th>\n      <th>0</th>\n      <th>1</th>\n      <th>2</th>\n      <th>3</th>\n      <th>4</th>\n    </tr>\n    <tr>\n      <th>waterfront</th>\n      <th></th>\n      <th></th>\n      <th></th>\n      <th></th>\n      <th></th>\n    </tr>\n  </thead>\n  <tbody>\n    <tr>\n      <th>0</th>\n      <td>19489</td>\n      <td>331</td>\n      <td>955</td>\n      <td>491</td>\n      <td>184</td>\n    </tr>\n    <tr>\n      <th>1</th>\n      <td>0</td>\n      <td>1</td>\n      <td>8</td>\n      <td>19</td>\n      <td>135</td>\n    </tr>\n  </tbody>\n</table>\n</div>"
          },
          "metadata": {}
        }
      ],
      "execution_count": 36
    },
    {
      "cell_type": "markdown",
      "source": "#### Ответ на 3.4",
      "metadata": {}
    },
    {
      "cell_type": "code",
      "source": "def highlight_max(x):\n    return np.where(x == np.max(x.to_numpy()), f'color: blue ;', None)",
      "metadata": {
        "trusted": true
      },
      "outputs": [],
      "execution_count": 39
    },
    {
      "cell_type": "code",
      "source": "df.pivot_table(index='floors',\n               columns='bedrooms',\n               values='id',\n               aggfunc='count',\n              fill_value=0).style.apply(highlight_max, axis=1)",
      "metadata": {
        "trusted": true
      },
      "outputs": [
        {
          "ename": "<class 'ImportError'>",
          "evalue": "Missing optional dependency 'Jinja2'. DataFrame.style requires jinja2. Use pip or conda to install Jinja2.",
          "traceback": [
            "\u001b[0;31m---------------------------------------------------------------------------\u001b[0m",
            "\u001b[0;31mModuleNotFoundError\u001b[0m                       Traceback (most recent call last)",
            "File \u001b[0;32m/lib/python3.12/site-packages/pandas/compat/_optional.py:135\u001b[0m, in \u001b[0;36mimport_optional_dependency\u001b[0;34m(name, extra, errors, min_version)\u001b[0m\n\u001b[1;32m    134\u001b[0m \u001b[38;5;28;01mtry\u001b[39;00m:\n\u001b[0;32m--> 135\u001b[0m     module \u001b[38;5;241m=\u001b[39m \u001b[43mimportlib\u001b[49m\u001b[38;5;241;43m.\u001b[39;49m\u001b[43mimport_module\u001b[49m\u001b[43m(\u001b[49m\u001b[43mname\u001b[49m\u001b[43m)\u001b[49m\n\u001b[1;32m    136\u001b[0m \u001b[38;5;28;01mexcept\u001b[39;00m \u001b[38;5;167;01mImportError\u001b[39;00m:\n",
            "File \u001b[0;32m/lib/python312.zip/importlib/__init__.py:90\u001b[0m, in \u001b[0;36mimport_module\u001b[0;34m(name, package)\u001b[0m\n\u001b[1;32m     89\u001b[0m         level \u001b[38;5;241m+\u001b[39m\u001b[38;5;241m=\u001b[39m \u001b[38;5;241m1\u001b[39m\n\u001b[0;32m---> 90\u001b[0m \u001b[38;5;28;01mreturn\u001b[39;00m \u001b[43m_bootstrap\u001b[49m\u001b[38;5;241;43m.\u001b[39;49m\u001b[43m_gcd_import\u001b[49m\u001b[43m(\u001b[49m\u001b[43mname\u001b[49m\u001b[43m[\u001b[49m\u001b[43mlevel\u001b[49m\u001b[43m:\u001b[49m\u001b[43m]\u001b[49m\u001b[43m,\u001b[49m\u001b[43m \u001b[49m\u001b[43mpackage\u001b[49m\u001b[43m,\u001b[49m\u001b[43m \u001b[49m\u001b[43mlevel\u001b[49m\u001b[43m)\u001b[49m\n",
            "File \u001b[0;32m<frozen importlib._bootstrap>:1387\u001b[0m, in \u001b[0;36m_gcd_import\u001b[0;34m(name, package, level)\u001b[0m\n",
            "File \u001b[0;32m<frozen importlib._bootstrap>:1360\u001b[0m, in \u001b[0;36m_find_and_load\u001b[0;34m(name, import_)\u001b[0m\n",
            "File \u001b[0;32m<frozen importlib._bootstrap>:1324\u001b[0m, in \u001b[0;36m_find_and_load_unlocked\u001b[0;34m(name, import_)\u001b[0m\n",
            "\u001b[0;31mModuleNotFoundError\u001b[0m: No module named 'jinja2'",
            "\nDuring handling of the above exception, another exception occurred:\n",
            "\u001b[0;31mImportError\u001b[0m                               Traceback (most recent call last)",
            "Cell \u001b[0;32mIn[40], line 5\u001b[0m\n\u001b[1;32m      1\u001b[0m \u001b[43mdf\u001b[49m\u001b[38;5;241;43m.\u001b[39;49m\u001b[43mpivot_table\u001b[49m\u001b[43m(\u001b[49m\u001b[43mindex\u001b[49m\u001b[38;5;241;43m=\u001b[39;49m\u001b[38;5;124;43m'\u001b[39;49m\u001b[38;5;124;43mfloors\u001b[39;49m\u001b[38;5;124;43m'\u001b[39;49m\u001b[43m,\u001b[49m\n\u001b[1;32m      2\u001b[0m \u001b[43m               \u001b[49m\u001b[43mcolumns\u001b[49m\u001b[38;5;241;43m=\u001b[39;49m\u001b[38;5;124;43m'\u001b[39;49m\u001b[38;5;124;43mbedrooms\u001b[39;49m\u001b[38;5;124;43m'\u001b[39;49m\u001b[43m,\u001b[49m\n\u001b[1;32m      3\u001b[0m \u001b[43m               \u001b[49m\u001b[43mvalues\u001b[49m\u001b[38;5;241;43m=\u001b[39;49m\u001b[38;5;124;43m'\u001b[39;49m\u001b[38;5;124;43mid\u001b[39;49m\u001b[38;5;124;43m'\u001b[39;49m\u001b[43m,\u001b[49m\n\u001b[1;32m      4\u001b[0m \u001b[43m               \u001b[49m\u001b[43maggfunc\u001b[49m\u001b[38;5;241;43m=\u001b[39;49m\u001b[38;5;124;43m'\u001b[39;49m\u001b[38;5;124;43mcount\u001b[39;49m\u001b[38;5;124;43m'\u001b[39;49m\u001b[43m,\u001b[49m\n\u001b[0;32m----> 5\u001b[0m \u001b[43m              \u001b[49m\u001b[43mfill_value\u001b[49m\u001b[38;5;241;43m=\u001b[39;49m\u001b[38;5;241;43m0\u001b[39;49m\u001b[43m)\u001b[49m\u001b[38;5;241;43m.\u001b[39;49m\u001b[43mstyle\u001b[49m\u001b[38;5;241m.\u001b[39mapply(highlight_max, axis\u001b[38;5;241m=\u001b[39m\u001b[38;5;241m1\u001b[39m)\n",
            "File \u001b[0;32m/lib/python3.12/site-packages/pandas/core/frame.py:1430\u001b[0m, in \u001b[0;36mDataFrame.style\u001b[0;34m(self)\u001b[0m\n\u001b[1;32m   1410\u001b[0m \u001b[38;5;129m@property\u001b[39m\n\u001b[1;32m   1411\u001b[0m \u001b[38;5;28;01mdef\u001b[39;00m \u001b[38;5;21mstyle\u001b[39m(\u001b[38;5;28mself\u001b[39m) \u001b[38;5;241m-\u001b[39m\u001b[38;5;241m>\u001b[39m Styler:\n\u001b[1;32m   1412\u001b[0m \u001b[38;5;250m    \u001b[39m\u001b[38;5;124;03m\"\"\"\u001b[39;00m\n\u001b[1;32m   1413\u001b[0m \u001b[38;5;124;03m    Returns a Styler object.\u001b[39;00m\n\u001b[1;32m   1414\u001b[0m \n\u001b[0;32m   (...)\u001b[0m\n\u001b[1;32m   1428\u001b[0m \u001b[38;5;124;03m    `Table Visualization <../../user_guide/style.ipynb>`_ for more examples.\u001b[39;00m\n\u001b[1;32m   1429\u001b[0m \u001b[38;5;124;03m    \"\"\"\u001b[39;00m\n\u001b[0;32m-> 1430\u001b[0m     \u001b[38;5;28;01mfrom\u001b[39;00m \u001b[38;5;21;01mpandas\u001b[39;00m\u001b[38;5;21;01m.\u001b[39;00m\u001b[38;5;21;01mio\u001b[39;00m\u001b[38;5;21;01m.\u001b[39;00m\u001b[38;5;21;01mformats\u001b[39;00m\u001b[38;5;21;01m.\u001b[39;00m\u001b[38;5;21;01mstyle\u001b[39;00m \u001b[38;5;28;01mimport\u001b[39;00m Styler\n\u001b[1;32m   1432\u001b[0m     \u001b[38;5;28;01mreturn\u001b[39;00m Styler(\u001b[38;5;28mself\u001b[39m)\n",
            "File \u001b[0;32m/lib/python3.12/site-packages/pandas/io/formats/style.py:44\u001b[0m\n\u001b[1;32m     40\u001b[0m \u001b[38;5;28;01mfrom\u001b[39;00m \u001b[38;5;21;01mpandas\u001b[39;00m\u001b[38;5;21;01m.\u001b[39;00m\u001b[38;5;21;01mcore\u001b[39;00m\u001b[38;5;21;01m.\u001b[39;00m\u001b[38;5;21;01mshared_docs\u001b[39;00m \u001b[38;5;28;01mimport\u001b[39;00m _shared_docs\n\u001b[1;32m     42\u001b[0m \u001b[38;5;28;01mfrom\u001b[39;00m \u001b[38;5;21;01mpandas\u001b[39;00m\u001b[38;5;21;01m.\u001b[39;00m\u001b[38;5;21;01mio\u001b[39;00m\u001b[38;5;21;01m.\u001b[39;00m\u001b[38;5;21;01mformats\u001b[39;00m\u001b[38;5;21;01m.\u001b[39;00m\u001b[38;5;21;01mformat\u001b[39;00m \u001b[38;5;28;01mimport\u001b[39;00m save_to_buffer\n\u001b[0;32m---> 44\u001b[0m jinja2 \u001b[38;5;241m=\u001b[39m \u001b[43mimport_optional_dependency\u001b[49m\u001b[43m(\u001b[49m\u001b[38;5;124;43m\"\u001b[39;49m\u001b[38;5;124;43mjinja2\u001b[39;49m\u001b[38;5;124;43m\"\u001b[39;49m\u001b[43m,\u001b[49m\u001b[43m \u001b[49m\u001b[43mextra\u001b[49m\u001b[38;5;241;43m=\u001b[39;49m\u001b[38;5;124;43m\"\u001b[39;49m\u001b[38;5;124;43mDataFrame.style requires jinja2.\u001b[39;49m\u001b[38;5;124;43m\"\u001b[39;49m\u001b[43m)\u001b[49m\n\u001b[1;32m     46\u001b[0m \u001b[38;5;28;01mfrom\u001b[39;00m \u001b[38;5;21;01mpandas\u001b[39;00m\u001b[38;5;21;01m.\u001b[39;00m\u001b[38;5;21;01mio\u001b[39;00m\u001b[38;5;21;01m.\u001b[39;00m\u001b[38;5;21;01mformats\u001b[39;00m\u001b[38;5;21;01m.\u001b[39;00m\u001b[38;5;21;01mstyle_render\u001b[39;00m \u001b[38;5;28;01mimport\u001b[39;00m (\n\u001b[1;32m     47\u001b[0m     CSSProperties,\n\u001b[1;32m     48\u001b[0m     CSSStyles,\n\u001b[0;32m   (...)\u001b[0m\n\u001b[1;32m     56\u001b[0m     refactor_levels,\n\u001b[1;32m     57\u001b[0m )\n\u001b[1;32m     59\u001b[0m \u001b[38;5;28;01mif\u001b[39;00m TYPE_CHECKING:\n",
            "File \u001b[0;32m/lib/python3.12/site-packages/pandas/compat/_optional.py:138\u001b[0m, in \u001b[0;36mimport_optional_dependency\u001b[0;34m(name, extra, errors, min_version)\u001b[0m\n\u001b[1;32m    136\u001b[0m \u001b[38;5;28;01mexcept\u001b[39;00m \u001b[38;5;167;01mImportError\u001b[39;00m:\n\u001b[1;32m    137\u001b[0m     \u001b[38;5;28;01mif\u001b[39;00m errors \u001b[38;5;241m==\u001b[39m \u001b[38;5;124m\"\u001b[39m\u001b[38;5;124mraise\u001b[39m\u001b[38;5;124m\"\u001b[39m:\n\u001b[0;32m--> 138\u001b[0m         \u001b[38;5;28;01mraise\u001b[39;00m \u001b[38;5;167;01mImportError\u001b[39;00m(msg)\n\u001b[1;32m    139\u001b[0m     \u001b[38;5;28;01mreturn\u001b[39;00m \u001b[38;5;28;01mNone\u001b[39;00m\n\u001b[1;32m    141\u001b[0m \u001b[38;5;66;03m# Handle submodules: if we have submodule, grab parent module from sys.modules\u001b[39;00m\n",
            "\u001b[0;31mImportError\u001b[0m: Missing optional dependency 'Jinja2'. DataFrame.style requires jinja2. Use pip or conda to install Jinja2."
          ],
          "output_type": "error"
        }
      ],
      "execution_count": 40
    },
    {
      "cell_type": "markdown",
      "source": "#### Ответ на 3.5",
      "metadata": {}
    },
    {
      "cell_type": "code",
      "source": "df.pivot_table(index='condition',\n               columns='grade',\n               values='price',\n               aggfunc='median',\n               fill_value=0)",
      "metadata": {
        "trusted": true
      },
      "outputs": [
        {
          "execution_count": 41,
          "output_type": "execute_result",
          "data": {
            "text/plain": "grade            1         3         4         5         6         7   \\\ncondition                                                               \n1          142000.0       0.0  150000.0  190000.0  255000.0  403500.0   \n2               0.0  280000.0  145000.0  180000.0  235000.0  305000.0   \n3               0.0   75000.0  205000.0  234475.0  265000.0  357500.0   \n4               0.0       0.0  238525.0  229975.0  295000.0  390000.0   \n5               0.0  262000.0       0.0  227450.0  285475.0  456000.0   \n\ngrade            8          9          10         11         12         13  \ncondition                                                                   \n1          932500.0        0.0        0.0        0.0        0.0        0.0  \n2          429000.0   715000.0  1752500.0        0.0        0.0        0.0  \n3          485000.0   689000.0   890000.0  1209500.0  1807500.0  2888000.0  \n4          571250.0   823500.0  1030000.0  1685000.0  2125000.0  5750000.0  \n5          696000.0  1078000.0  1650000.0  2050000.0  1990000.0        0.0  ",
            "text/html": "<div>\n<style scoped>\n    .dataframe tbody tr th:only-of-type {\n        vertical-align: middle;\n    }\n\n    .dataframe tbody tr th {\n        vertical-align: top;\n    }\n\n    .dataframe thead th {\n        text-align: right;\n    }\n</style>\n<table border=\"1\" class=\"dataframe\">\n  <thead>\n    <tr style=\"text-align: right;\">\n      <th>grade</th>\n      <th>1</th>\n      <th>3</th>\n      <th>4</th>\n      <th>5</th>\n      <th>6</th>\n      <th>7</th>\n      <th>8</th>\n      <th>9</th>\n      <th>10</th>\n      <th>11</th>\n      <th>12</th>\n      <th>13</th>\n    </tr>\n    <tr>\n      <th>condition</th>\n      <th></th>\n      <th></th>\n      <th></th>\n      <th></th>\n      <th></th>\n      <th></th>\n      <th></th>\n      <th></th>\n      <th></th>\n      <th></th>\n      <th></th>\n      <th></th>\n    </tr>\n  </thead>\n  <tbody>\n    <tr>\n      <th>1</th>\n      <td>142000.0</td>\n      <td>0.0</td>\n      <td>150000.0</td>\n      <td>190000.0</td>\n      <td>255000.0</td>\n      <td>403500.0</td>\n      <td>932500.0</td>\n      <td>0.0</td>\n      <td>0.0</td>\n      <td>0.0</td>\n      <td>0.0</td>\n      <td>0.0</td>\n    </tr>\n    <tr>\n      <th>2</th>\n      <td>0.0</td>\n      <td>280000.0</td>\n      <td>145000.0</td>\n      <td>180000.0</td>\n      <td>235000.0</td>\n      <td>305000.0</td>\n      <td>429000.0</td>\n      <td>715000.0</td>\n      <td>1752500.0</td>\n      <td>0.0</td>\n      <td>0.0</td>\n      <td>0.0</td>\n    </tr>\n    <tr>\n      <th>3</th>\n      <td>0.0</td>\n      <td>75000.0</td>\n      <td>205000.0</td>\n      <td>234475.0</td>\n      <td>265000.0</td>\n      <td>357500.0</td>\n      <td>485000.0</td>\n      <td>689000.0</td>\n      <td>890000.0</td>\n      <td>1209500.0</td>\n      <td>1807500.0</td>\n      <td>2888000.0</td>\n    </tr>\n    <tr>\n      <th>4</th>\n      <td>0.0</td>\n      <td>0.0</td>\n      <td>238525.0</td>\n      <td>229975.0</td>\n      <td>295000.0</td>\n      <td>390000.0</td>\n      <td>571250.0</td>\n      <td>823500.0</td>\n      <td>1030000.0</td>\n      <td>1685000.0</td>\n      <td>2125000.0</td>\n      <td>5750000.0</td>\n    </tr>\n    <tr>\n      <th>5</th>\n      <td>0.0</td>\n      <td>262000.0</td>\n      <td>0.0</td>\n      <td>227450.0</td>\n      <td>285475.0</td>\n      <td>456000.0</td>\n      <td>696000.0</td>\n      <td>1078000.0</td>\n      <td>1650000.0</td>\n      <td>2050000.0</td>\n      <td>1990000.0</td>\n      <td>0.0</td>\n    </tr>\n  </tbody>\n</table>\n</div>"
          },
          "metadata": {}
        }
      ],
      "execution_count": 41
    }
  ]
}