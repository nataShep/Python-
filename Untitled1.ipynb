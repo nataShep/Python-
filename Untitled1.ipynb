{
  "metadata": {
    "kernelspec": {
      "name": "python",
      "display_name": "Python (Pyodide)",
      "language": "python"
    },
    "language_info": {
      "codemirror_mode": {
        "name": "python",
        "version": 3
      },
      "file_extension": ".py",
      "mimetype": "text/x-python",
      "name": "python",
      "nbconvert_exporter": "python",
      "pygments_lexer": "ipython3",
      "version": "3.8"
    }
  },
  "nbformat_minor": 4,
  "nbformat": 4,
  "cells": [
    {
      "cell_type": "markdown",
      "source": "## Задание 2\n#### На складе лежат разные фрукты в разном количестве. Нужно написать функцию, которая на вход принимает любое количество названий фруктов и их количество, а возвращает общее количество фруктов на складе",
      "metadata": {}
    },
    {
      "cell_type": "code",
      "source": "def fruit_basket(**kwargs):\n    {print(f\"Фрукт {name} в количестве {values} кг\")\n     for name, values in kwargs.items()}\n    return print(f'Общее количество фрутов: {sum(kwargs.values())} кг')\nfruit_basket(\n    pineapple = 23,\n    oranges = 15,\n    bananas = 5\n)",
      "metadata": {
        "trusted": true
      },
      "outputs": [
        {
          "name": "stdout",
          "text": "Фрукт pineapple в количестве 23 кг\nФрукт oranges в количестве 15 кг\nФрукт bananas в количестве 5 кг\nОбщее количество фрутов: 43 кг\n",
          "output_type": "stream"
        }
      ],
      "execution_count": 13
    },
    {
      "cell_type": "markdown",
      "source": "## Задание 3\n#### Дан список с затратами на рекламу. Но в данных есть ошибки, некоторые затраты имеют отрицательную величину. Удалите такие значения из списка и посчитайте суммарные затраты [100, 125, -90, 345, 655, -1, 0, 200].",
      "metadata": {}
    },
    {
      "cell_type": "code",
      "source": "list_advertising_costs = [100, 125, -90, 345, 655, -1, 0, 200]\nsum_costs = [i for i in list_advertising_costs if i > 0]\nprint(f'Затраты на рекламу {sum_costs}. '\nf'Суммарные затраты составляют: {sum(sum_costs)} у.е.')",
      "metadata": {
        "trusted": true
      },
      "outputs": [
        {
          "name": "stdout",
          "text": "Затраты на рекламу [100, 125, 345, 655, 200]. Суммарные затраты составляют: 1425 у.е.\n",
          "output_type": "stream"
        }
      ],
      "execution_count": 21
    },
    {
      "cell_type": "markdown",
      "source": "## Задание 4\n### Даны два списка.\n#### Дата покупки\n##### ['2021-09-14', '2021-12-15', '2021-09-08', '2021-12-05', '2021-10-09', '2021-09-30', '2021-12-22', '2021-11-29', '2021-12-24', '2021-11-26', '2021-10-27', '2021-12-18', '2021-11-09', '2021-11-23', '2021-09-27', '2021-10-02', '2021-12-27', '2021-09-20', '2021-12-13', '2021-11-01', '2021-11-09', '2021-12-06', '2021-12-08', '2021-10-09', '2021-10-31', '2021-09-30', '2021-11-09', '2021-12-13', '2021-10-26', '2021-12-09']\n#### Суммы покупок по датам\n##### [1270, 8413, 9028, 3703, 5739, 4095, 295, 4944, 5723, 3701, 4471, 651, 7037, 4274, 6275, 4988, 6930, 2971, 6592, 2004, 2822, 519, 3406, 2732, 5015, 2008, 316, 6333, 5700, 2887]\n### 4.1 Найдите, какая выручка у компании в ноябре",
      "metadata": {}
    },
    {
      "cell_type": "code",
      "source": "list_dates = ['2021-09-14', '2021-12-15', '2021-09-08', '2021-12-05', '2021-10-09', '2021-09-30', '2021-12-22', '2021-11-29', '2021-12-24', '2021-11-26', '2021-10-27', '2021-12-18', '2021-11-09', '2021-11-23', '2021-09-27',\n              '2021-10-02', '2021-12-27', '2021-09-20', '2021-12-13', '2021-11-01', '2021-11-09', '2021-12-06', '2021-12-08', '2021-10-09', '2021-10-31', '2021-09-30', '2021-11-09', '2021-12-13', '2021-10-26', '2021-12-09']\npurchases_by_date = [1270, 8413, 9028, 3703, 5739, 4095, 295, 4944, 5723, 3701, 4471, 651, 7037, 4274,\n                  6275, 4988, 6930, 2971, 6592, 2004, 2822, 519, 3406, 2732, 5015, 2008, 316, 6333, 5700, 2887]\nlist_Month = [i.split('-')[1] for i in list_dates]\ntuple_November_Revenue = [(f'За месяц {list_Month[i]}', f'выручка {purchases_by_date[j]}')\n                          for i in range(len(list_Month))\n                          for j in range(len(purchases_by_date))\n                          if i == j and list_Month[i] == '11'] \nprint(tuple_November_Revenue)                              \nprint(tuple_November_Revenue[0][0], f'всего выручка составилa: {sum([amount for dates, amount in zip(list_dates, purchases_by_date) if dates[5:7] == \"11\"])}')",
      "metadata": {
        "trusted": true
      },
      "outputs": [
        {
          "name": "stdout",
          "text": "[('За месяц 11', 'выручка 4944'), ('За месяц 11', 'выручка 3701'), ('За месяц 11', 'выручка 7037'), ('За месяц 11', 'выручка 4274'), ('За месяц 11', 'выручка 2004'), ('За месяц 11', 'выручка 2822'), ('За месяц 11', 'выручка 316')]\nЗа месяц 11 всего выручка составилa: 25098\n",
          "output_type": "stream"
        }
      ],
      "execution_count": 35
    },
    {
      "cell_type": "markdown",
      "source": "### 4.2 Найдите выручку компании в зависимости от месяца",
      "metadata": {}
    },
    {
      "cell_type": "code",
      "source": "def revenue_by_month(list_date: list, list_revenue: list) -> dict:\n    # list_Month = [i.split('-')[1] for i in list_date]\n    # dict_Month = {list_date[i].split('-')[1] : list_revenue[j] for i in range(len(list_date)) for j in range(len(list_revenue)) if i == j}\n    dict_Month = {}\n    for i in range(len(list_date)):\n        if list_date[i].split('-')[1] in dict_Month.keys():\n            dict_Month[list_date[i].split('-')[1]] += list_revenue[i]\n        else:\n            dict_Month[list_date[i].split('-')[1]] = list_revenue[i]\n    return dict_Month\nprint(revenue_by_month(list_dates, purchases_by_date))",
      "metadata": {
        "trusted": true
      },
      "outputs": [
        {
          "name": "stdout",
          "text": "{'09': 25647, '12': 45452, '10': 28645, '11': 25098}\n",
          "output_type": "stream"
        }
      ],
      "execution_count": 37
    }
  ]
}